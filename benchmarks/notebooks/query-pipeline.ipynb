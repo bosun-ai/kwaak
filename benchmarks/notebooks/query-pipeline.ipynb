{
 "cells": [
  {
   "cell_type": "markdown",
   "metadata": {},
   "source": [
    "# Query pipeline evaluation example notebook\n",
    "\n",
    "This notebook serves as a usueable example to evaluate the Kwaak query pipeline. Evaluations are done with RAGAS and it uses itself as datasource.\n",
    "\n",
    "The intention of this notebook is that it can be modified and tailored for any repository to get a grasp of how the Kwaak rag performs on it.\n",
    "\n",
    "## How does it work\n",
    "* Generate a RAGAS compatible dataset with recorded ground truths for a set of questions\n",
    "* Review and modify the generated initial answers to establish a ground truth\n",
    "* Make some changes to kwaak, run the eval step without recording ground truth, with the base file as input\n",
    "* /evals should then contain ragas/base.json and a json file for each evaluation\n",
    "* Do this as many times as desired, then use the provided analysis (or do it better than me) to make a comparison\n",
    "\n",
    "## TODO\n",
    "- [ ] Provide a predefined base dataset\n",
    "- [ ] Store datasets in HF?"
   ]
  },
  {
   "cell_type": "markdown",
   "metadata": {},
   "source": [
    "## Initial question generation"
   ]
  },
  {
   "cell_type": "code",
   "execution_count": 80,
   "metadata": {},
   "outputs": [
    {
     "data": {
      "text/plain": [
       "'-q \"Explain kwaak works and explain the architecture. Include a mermaid diagram of all the high level components.\" -q \"I\\'d like to be able to configure a session in a file, such that users can add their own custom agents. Create a detailed step-by-step plan.\" -q \"There are multiple uses of channels in the app. Explore how the channels work, interact, relate and explain it in simpel terms from a users perspective.\" -q \"How are tools used by an agent?\" -q \"How can I add a tool for an agent?\"'"
      ]
     },
     "execution_count": 80,
     "metadata": {},
     "output_type": "execute_result"
    }
   ],
   "source": [
    "questions = [\n",
    "    \"Explain kwaak works and explain the architecture. Include a mermaid diagram of all the high level components.\",\n",
    "\"I'd like to be able to configure a session in a file, such that users can add their own custom agents. Create a detailed step-by-step plan.\",\n",
    "\"There are multiple uses of channels in the app. Explore how the channels work, interact, relate and explain it in simpel terms from a users perspective.\",\n",
    "\"How are tools used by an agent?\",\n",
    "\"How can I add a tool for an agent?\"\n",
    "]\n",
    "\n",
    "# Let's prep these for shell commands so they are double quoted and joined by a comma\n",
    "questions_for_shell = \" \".join([f'-q \"{q}\"' for q in questions])\n",
    "questions_for_shell"
   ]
  },
  {
   "cell_type": "code",
   "execution_count": 92,
   "metadata": {},
   "outputs": [
    {
     "name": "stdout",
     "output_type": "stream",
     "text": [
      "\u001b[0m\u001b[1m\u001b[33mwarning\u001b[0m\u001b[0m\u001b[1m: unused import: `ValueEnum`\u001b[0m\n",
      "\u001b[0m \u001b[0m\u001b[0m\u001b[1m\u001b[38;5;12m--> \u001b[0m\u001b[0msrc/cli.rs:3:32\u001b[0m\n",
      "\u001b[0m  \u001b[0m\u001b[0m\u001b[1m\u001b[38;5;12m|\u001b[0m\n",
      "\u001b[0m\u001b[1m\u001b[38;5;12m3\u001b[0m\u001b[0m \u001b[0m\u001b[0m\u001b[1m\u001b[38;5;12m|\u001b[0m\u001b[0m \u001b[0m\u001b[0muse clap::{Parser, Subcommand, ValueEnum};\u001b[0m\n",
      "\u001b[0m  \u001b[0m\u001b[0m\u001b[1m\u001b[38;5;12m|\u001b[0m\u001b[0m                                \u001b[0m\u001b[0m\u001b[1m\u001b[33m^^^^^^^^^\u001b[0m\n",
      "\u001b[0m  \u001b[0m\u001b[0m\u001b[1m\u001b[38;5;12m|\u001b[0m\n",
      "\u001b[0m  \u001b[0m\u001b[0m\u001b[1m\u001b[38;5;12m= \u001b[0m\u001b[0m\u001b[1mnote\u001b[0m\u001b[0m: `#[warn(unused_imports)]` on by default\u001b[0m\n",
      "\n",
      "\u001b[1m\u001b[33mwarning\u001b[0m\u001b[1m:\u001b[0m `kwaak` (lib) generated 1 warning (run `cargo fix --lib -p kwaak` to apply 1 suggestion)\n",
      "\u001b[1m\u001b[32m    Finished\u001b[0m `dev` profile [unoptimized + debuginfo] target(s) in 0.66s\n",
      "\u001b[1m\u001b[32m     Running\u001b[0m `target/debug/kwaak --allow-dirty eval ragas -q 'Explain kwaak works and explain the architecture. Include a mermaid diagram of all the high level components.' -q 'I'\\''d like to be able to configure a session in a file, such that users can add their own custom agents. Create a detailed step-by-step plan.' -q 'There are multiple uses of channels in the app. Explore how the channels work, interact, relate and explain it in simpel terms from a users perspective.' -q 'How are tools used by an agent?' -q 'How can I add a tool for an agent?' --output=evals/ragas/base_raw.json -r`\n",
      "OpenTelemetry tracing enabled\n",
      "Generation evalutions for 5 questions\n"
     ]
    }
   ],
   "source": [
    "!cd ../.. && RUSTRUST_LOG=debug cargo run --features evaluations --  --allow-dirty eval ragas $questions_for_shell --output=evals/ragas/base_raw.json -r"
   ]
  },
  {
   "cell_type": "code",
   "execution_count": 105,
   "metadata": {},
   "outputs": [
    {
     "data": {
      "text/html": [
       "<div>\n",
       "<style scoped>\n",
       "    .dataframe tbody tr th:only-of-type {\n",
       "        vertical-align: middle;\n",
       "    }\n",
       "\n",
       "    .dataframe tbody tr th {\n",
       "        vertical-align: top;\n",
       "    }\n",
       "\n",
       "    .dataframe thead th {\n",
       "        text-align: right;\n",
       "    }\n",
       "</style>\n",
       "<table border=\"1\" class=\"dataframe\">\n",
       "  <thead>\n",
       "    <tr style=\"text-align: right;\">\n",
       "      <th></th>\n",
       "      <th>answer</th>\n",
       "      <th>contexts</th>\n",
       "      <th>ground_truth</th>\n",
       "      <th>question</th>\n",
       "    </tr>\n",
       "  </thead>\n",
       "  <tbody>\n",
       "    <tr>\n",
       "      <th>0</th>\n",
       "      <td>The provided context does not give specific in...</td>\n",
       "      <td>[//! Agents defines various agents that can be...</td>\n",
       "      <td>The provided context does not give specific in...</td>\n",
       "      <td>How can I add a tool for an agent?</td>\n",
       "    </tr>\n",
       "    <tr>\n",
       "      <th>1</th>\n",
       "      <td>The context provided doesn't have complete inf...</td>\n",
       "      <td>[Kwaak is free and open-source. You can bring ...</td>\n",
       "      <td>The context provided doesn't have complete inf...</td>\n",
       "      <td>Explain kwaak works and explain the architectu...</td>\n",
       "    </tr>\n",
       "    <tr>\n",
       "      <th>2</th>\n",
       "      <td>The context provided does not include detailed...</td>\n",
       "      <td>[# Architecture\\n\\nKwaak has a lightweight, ra...</td>\n",
       "      <td>The context provided does not include detailed...</td>\n",
       "      <td>There are multiple uses of channels in the app...</td>\n",
       "    </tr>\n",
       "    <tr>\n",
       "      <th>3</th>\n",
       "      <td>The context does not explicitly describe how t...</td>\n",
       "      <td>[## How is Kwaak different from other tools?\\n...</td>\n",
       "      <td>The context does not explicitly describe how t...</td>\n",
       "      <td>How are tools used by an agent?</td>\n",
       "    </tr>\n",
       "    <tr>\n",
       "      <th>4</th>\n",
       "      <td>The provided context does not include explicit...</td>\n",
       "      <td>[### Session Management\\n\\nKwaak supports runn...</td>\n",
       "      <td>The provided context does not include explicit...</td>\n",
       "      <td>I'd like to be able to configure a session in ...</td>\n",
       "    </tr>\n",
       "  </tbody>\n",
       "</table>\n",
       "</div>"
      ],
      "text/plain": [
       "                                              answer  \\\n",
       "0  The provided context does not give specific in...   \n",
       "1  The context provided doesn't have complete inf...   \n",
       "2  The context provided does not include detailed...   \n",
       "3  The context does not explicitly describe how t...   \n",
       "4  The provided context does not include explicit...   \n",
       "\n",
       "                                            contexts  \\\n",
       "0  [//! Agents defines various agents that can be...   \n",
       "1  [Kwaak is free and open-source. You can bring ...   \n",
       "2  [# Architecture\\n\\nKwaak has a lightweight, ra...   \n",
       "3  [## How is Kwaak different from other tools?\\n...   \n",
       "4  [### Session Management\\n\\nKwaak supports runn...   \n",
       "\n",
       "                                        ground_truth  \\\n",
       "0  The provided context does not give specific in...   \n",
       "1  The context provided doesn't have complete inf...   \n",
       "2  The context provided does not include detailed...   \n",
       "3  The context does not explicitly describe how t...   \n",
       "4  The provided context does not include explicit...   \n",
       "\n",
       "                                            question  \n",
       "0                 How can I add a tool for an agent?  \n",
       "1  Explain kwaak works and explain the architectu...  \n",
       "2  There are multiple uses of channels in the app...  \n",
       "3                    How are tools used by an agent?  \n",
       "4  I'd like to be able to configure a session in ...  "
      ]
     },
     "metadata": {},
     "output_type": "display_data"
    }
   ],
   "source": [
    "import pandas as pd;\n",
    "from datasets import load_dataset;\n",
    "ds = load_dataset(\"json\", data_files={\"base\": \"../../evals/ragas/base_raw.json\"})\n",
    "ds = ds.with_format(\"pandas\")\n",
    "import IPython.display as display\n",
    "\n",
    "# Pretty print the dataset as a pandas table\n",
    "display.display(ds[\"base\"].to_pandas())"
   ]
  },
  {
   "cell_type": "code",
   "execution_count": null,
   "metadata": {},
   "outputs": [
    {
     "data": {
      "application/vnd.jupyter.widget-view+json": {
       "model_id": "d67897f2ac4b437ea24c106ea9c6a47a",
       "version_major": 2,
       "version_minor": 0
      },
      "text/plain": [
       "Label(value='Question 1: How can I add a tool for an agent?')"
      ]
     },
     "metadata": {},
     "output_type": "display_data"
    },
    {
     "data": {
      "application/vnd.jupyter.widget-view+json": {
       "model_id": "645cd8771346446db1d985f0d8628f87",
       "version_major": 2,
       "version_minor": 0
      },
      "text/plain": [
       "Textarea(value='The provided context does not give specific instructions on how to add a tool for an agent wit…"
      ]
     },
     "metadata": {},
     "output_type": "display_data"
    },
    {
     "data": {
      "application/vnd.jupyter.widget-view+json": {
       "model_id": "a21b4c84d1b1438a825f2b6b177f9ccd",
       "version_major": 2,
       "version_minor": 0
      },
      "text/plain": [
       "Label(value='Question 2: Explain kwaak works and explain the architecture. Include a mermaid diagram of all th…"
      ]
     },
     "metadata": {},
     "output_type": "display_data"
    },
    {
     "data": {
      "application/vnd.jupyter.widget-view+json": {
       "model_id": "f2251b7ebb4a4f319efab205bad2825e",
       "version_major": 2,
       "version_minor": 0
      },
      "text/plain": [
       "Textarea(value=\"The context provided doesn't have complete information on how Kwaak works or its full architec…"
      ]
     },
     "metadata": {},
     "output_type": "display_data"
    },
    {
     "data": {
      "application/vnd.jupyter.widget-view+json": {
       "model_id": "7c7f749c491b4531a1bb1e87cc4d7ddc",
       "version_major": 2,
       "version_minor": 0
      },
      "text/plain": [
       "Label(value='Question 3: There are multiple uses of channels in the app. Explore how the channels work, intera…"
      ]
     },
     "metadata": {},
     "output_type": "display_data"
    },
    {
     "data": {
      "application/vnd.jupyter.widget-view+json": {
       "model_id": "8b7ae093abd146e686c5794c33ef083a",
       "version_major": 2,
       "version_minor": 0
      },
      "text/plain": [
       "Textarea(value=\"The context provided does not include detailed information on how channels specifically work, …"
      ]
     },
     "metadata": {},
     "output_type": "display_data"
    },
    {
     "data": {
      "application/vnd.jupyter.widget-view+json": {
       "model_id": "5f2bce784c5043da9104171ebe4474ae",
       "version_major": 2,
       "version_minor": 0
      },
      "text/plain": [
       "Label(value='Question 4: How are tools used by an agent?')"
      ]
     },
     "metadata": {},
     "output_type": "display_data"
    },
    {
     "data": {
      "application/vnd.jupyter.widget-view+json": {
       "model_id": "84ad3f59830344be926330308e16c882",
       "version_major": 2,
       "version_minor": 0
      },
      "text/plain": [
       "Textarea(value=\"The context does not explicitly describe how tools are used by an agent in detail. However, it…"
      ]
     },
     "metadata": {},
     "output_type": "display_data"
    },
    {
     "data": {
      "application/vnd.jupyter.widget-view+json": {
       "model_id": "88ad2e50a14d491f802f6f89393462c6",
       "version_major": 2,
       "version_minor": 0
      },
      "text/plain": [
       "Label(value=\"Question 5: I'd like to be able to configure a session in a file, such that users can add their o…"
      ]
     },
     "metadata": {},
     "output_type": "display_data"
    },
    {
     "data": {
      "application/vnd.jupyter.widget-view+json": {
       "model_id": "ca055fd4bcfc46d7b12f6495523fdd9b",
       "version_major": 2,
       "version_minor": 0
      },
      "text/plain": [
       "Textarea(value=\"The provided context does not include explicit step-by-step instructions for configuring a ses…"
      ]
     },
     "metadata": {},
     "output_type": "display_data"
    },
    {
     "data": {
      "application/vnd.jupyter.widget-view+json": {
       "model_id": "331b40909e274354b00d4edfbfee9a23",
       "version_major": 2,
       "version_minor": 0
      },
      "text/plain": [
       "Button(description='Confirm Answers', style=ButtonStyle())"
      ]
     },
     "metadata": {},
     "output_type": "display_data"
    },
    {
     "data": {
      "application/vnd.jupyter.widget-view+json": {
       "model_id": "8b6d188c240547faaeb1731ab4784641",
       "version_major": 2,
       "version_minor": 0
      },
      "text/plain": [
       "Map:   0%|          | 0/5 [00:00<?, ? examples/s]"
      ]
     },
     "metadata": {},
     "output_type": "display_data"
    },
    {
     "data": {
      "application/vnd.jupyter.widget-view+json": {
       "model_id": "545e49b8c157419587f3be3e113aebdc",
       "version_major": 2,
       "version_minor": 0
      },
      "text/plain": [
       "Saving the dataset (0/1 shards):   0%|          | 0/5 [00:00<?, ? examples/s]"
      ]
     },
     "metadata": {},
     "output_type": "display_data"
    }
   ],
   "source": [
    "import json\n",
    "import ipywidgets as widgets\n",
    "from IPython.display import display\n",
    "\n",
    "# Create a Textarea widget for each answer\n",
    "textareas = [widgets.Textarea(value=answer.replace('\\\\n', '\\n'), layout=widgets.Layout(width='100%', height='200px')) for answer in ds[\"base\"][\"answer\"]]\n",
    "\n",
    "# Display the Textarea widgets with truncated questions as labels\n",
    "for i, textarea in enumerate(textareas):\n",
    "    question_label = ds[\"base\"][\"question\"][i][:100] + \"...\" if len(ds[\"base\"][\"question\"][i]) > 100 else ds[\"base\"][\"question\"][i]\n",
    "    display(widgets.Label(f\"Question {i+1}: {question_label}\"))\n",
    "    display(textarea)\n",
    "\n",
    "# Function to get the updated answers\n",
    "def get_updated_answers():\n",
    "    return [textarea.value for textarea in textareas]\n",
    "\n",
    "# Button to save the updated answers\n",
    "save_button = widgets.Button(description=\"Confirm Answers\")\n",
    "display(save_button)\n",
    "\n",
    "def on_save_button_clicked(b):\n",
    "    updated_answers = get_updated_answers()\n",
    "    print(\"Updated Answers:\")\n",
    "    for answer in updated_answers:\n",
    "        print(answer)\n",
    "    \n",
    "    # Update the dataset with the new answers\n",
    "    ds[\"base\"] = ds[\"base\"].map(lambda example, idx: {\"answer\": updated_answers[idx]}, with_indices=True)\n",
    "    \n",
    "    # Save the updated dataset back to the JSON file\n",
    "    ds.save_to_disk(\"../../evals/ragas/dataset\")\n",
    "\n",
    "save_button.on_click(on_save_button_clicked)"
   ]
  },
  {
   "cell_type": "code",
   "execution_count": null,
   "metadata": {},
   "outputs": [],
   "source": [
    "# Load the updated dataset from the saved location\n",
    "updated_ds = load_dataset(\"json\", data_files={\"base\": \"../../evals/ragas/base.json\"})\n",
    "updated_ds = updated_ds.with_format(\"pandas\")\n",
    "\n",
    "# Pretty print the updated dataset as a pandas table\n",
    "display.display(updated_ds[\"base\"].to_pandas())"
   ]
  },
  {
   "cell_type": "code",
   "execution_count": 68,
   "metadata": {},
   "outputs": [
    {
     "name": "stdout",
     "output_type": "stream",
     "text": [
      "Requirement already satisfied: pandas in /Users/timonv/.cache/uv/archive-v0/xOW-9lxHq2JYk_6jjnnot/lib/python3.11/site-packages (2.2.3)\n",
      "Requirement already satisfied: datasets in /Users/timonv/.cache/uv/archive-v0/xOW-9lxHq2JYk_6jjnnot/lib/python3.11/site-packages (3.4.0)\n",
      "Requirement already satisfied: numpy>=1.23.2 in /Users/timonv/.cache/uv/archive-v0/xOW-9lxHq2JYk_6jjnnot/lib/python3.11/site-packages (from pandas) (2.2.3)\n",
      "Requirement already satisfied: python-dateutil>=2.8.2 in /Users/timonv/.cache/uv/archive-v0/xOW-9lxHq2JYk_6jjnnot/lib/python3.11/site-packages (from pandas) (2.9.0.post0)\n",
      "Requirement already satisfied: pytz>=2020.1 in /Users/timonv/.cache/uv/archive-v0/xOW-9lxHq2JYk_6jjnnot/lib/python3.11/site-packages (from pandas) (2025.1)\n",
      "Requirement already satisfied: tzdata>=2022.7 in /Users/timonv/.cache/uv/archive-v0/xOW-9lxHq2JYk_6jjnnot/lib/python3.11/site-packages (from pandas) (2025.1)\n",
      "Requirement already satisfied: filelock in /Users/timonv/.cache/uv/archive-v0/xOW-9lxHq2JYk_6jjnnot/lib/python3.11/site-packages (from datasets) (3.18.0)\n",
      "Requirement already satisfied: pyarrow>=15.0.0 in /Users/timonv/.cache/uv/archive-v0/xOW-9lxHq2JYk_6jjnnot/lib/python3.11/site-packages (from datasets) (19.0.1)\n",
      "Requirement already satisfied: dill<0.3.9,>=0.3.0 in /Users/timonv/.cache/uv/archive-v0/xOW-9lxHq2JYk_6jjnnot/lib/python3.11/site-packages (from datasets) (0.3.8)\n",
      "Requirement already satisfied: requests>=2.32.2 in /Users/timonv/.cache/uv/archive-v0/xOW-9lxHq2JYk_6jjnnot/lib/python3.11/site-packages (from datasets) (2.32.3)\n",
      "Requirement already satisfied: tqdm>=4.66.3 in /Users/timonv/.cache/uv/archive-v0/xOW-9lxHq2JYk_6jjnnot/lib/python3.11/site-packages (from datasets) (4.67.1)\n",
      "Requirement already satisfied: xxhash in /Users/timonv/.cache/uv/archive-v0/xOW-9lxHq2JYk_6jjnnot/lib/python3.11/site-packages (from datasets) (3.5.0)\n",
      "Requirement already satisfied: multiprocess<0.70.17 in /Users/timonv/.cache/uv/archive-v0/xOW-9lxHq2JYk_6jjnnot/lib/python3.11/site-packages (from datasets) (0.70.16)\n",
      "Requirement already satisfied: fsspec<=2024.12.0,>=2023.1.0 in /Users/timonv/.cache/uv/archive-v0/xOW-9lxHq2JYk_6jjnnot/lib/python3.11/site-packages (from fsspec[http]<=2024.12.0,>=2023.1.0->datasets) (2024.12.0)\n",
      "Requirement already satisfied: aiohttp in /Users/timonv/.cache/uv/archive-v0/xOW-9lxHq2JYk_6jjnnot/lib/python3.11/site-packages (from datasets) (3.11.13)\n",
      "Requirement already satisfied: huggingface-hub>=0.24.0 in /Users/timonv/.cache/uv/archive-v0/xOW-9lxHq2JYk_6jjnnot/lib/python3.11/site-packages (from datasets) (0.29.3)\n",
      "Requirement already satisfied: packaging in /Users/timonv/.cache/uv/archive-v0/xOW-9lxHq2JYk_6jjnnot/lib/python3.11/site-packages (from datasets) (24.2)\n",
      "Requirement already satisfied: pyyaml>=5.1 in /Users/timonv/.cache/uv/archive-v0/xOW-9lxHq2JYk_6jjnnot/lib/python3.11/site-packages (from datasets) (6.0.2)\n",
      "Requirement already satisfied: aiohappyeyeballs>=2.3.0 in /Users/timonv/.cache/uv/archive-v0/xOW-9lxHq2JYk_6jjnnot/lib/python3.11/site-packages (from aiohttp->datasets) (2.6.1)\n",
      "Requirement already satisfied: aiosignal>=1.1.2 in /Users/timonv/.cache/uv/archive-v0/xOW-9lxHq2JYk_6jjnnot/lib/python3.11/site-packages (from aiohttp->datasets) (1.3.2)\n",
      "Requirement already satisfied: attrs>=17.3.0 in /Users/timonv/.cache/uv/archive-v0/xOW-9lxHq2JYk_6jjnnot/lib/python3.11/site-packages (from aiohttp->datasets) (25.3.0)\n",
      "Requirement already satisfied: frozenlist>=1.1.1 in /Users/timonv/.cache/uv/archive-v0/xOW-9lxHq2JYk_6jjnnot/lib/python3.11/site-packages (from aiohttp->datasets) (1.5.0)\n",
      "Requirement already satisfied: multidict<7.0,>=4.5 in /Users/timonv/.cache/uv/archive-v0/xOW-9lxHq2JYk_6jjnnot/lib/python3.11/site-packages (from aiohttp->datasets) (6.1.0)\n",
      "Requirement already satisfied: propcache>=0.2.0 in /Users/timonv/.cache/uv/archive-v0/xOW-9lxHq2JYk_6jjnnot/lib/python3.11/site-packages (from aiohttp->datasets) (0.3.0)\n",
      "Requirement already satisfied: yarl<2.0,>=1.17.0 in /Users/timonv/.cache/uv/archive-v0/xOW-9lxHq2JYk_6jjnnot/lib/python3.11/site-packages (from aiohttp->datasets) (1.18.3)\n",
      "Requirement already satisfied: typing-extensions>=3.7.4.3 in /Users/timonv/.cache/uv/archive-v0/xOW-9lxHq2JYk_6jjnnot/lib/python3.11/site-packages (from huggingface-hub>=0.24.0->datasets) (4.12.2)\n",
      "Requirement already satisfied: six>=1.5 in /Users/timonv/.cache/uv/archive-v0/xOW-9lxHq2JYk_6jjnnot/lib/python3.11/site-packages (from python-dateutil>=2.8.2->pandas) (1.17.0)\n",
      "Requirement already satisfied: charset-normalizer<4,>=2 in /Users/timonv/.cache/uv/archive-v0/xOW-9lxHq2JYk_6jjnnot/lib/python3.11/site-packages (from requests>=2.32.2->datasets) (3.4.1)\n",
      "Requirement already satisfied: idna<4,>=2.5 in /Users/timonv/.cache/uv/archive-v0/xOW-9lxHq2JYk_6jjnnot/lib/python3.11/site-packages (from requests>=2.32.2->datasets) (3.10)\n",
      "Requirement already satisfied: urllib3<3,>=1.21.1 in /Users/timonv/.cache/uv/archive-v0/xOW-9lxHq2JYk_6jjnnot/lib/python3.11/site-packages (from requests>=2.32.2->datasets) (2.3.0)\n",
      "Requirement already satisfied: certifi>=2017.4.17 in /Users/timonv/.cache/uv/archive-v0/xOW-9lxHq2JYk_6jjnnot/lib/python3.11/site-packages (from requests>=2.32.2->datasets) (2025.1.31)\n",
      "\n",
      "\u001b[1m[\u001b[0m\u001b[34;49mnotice\u001b[0m\u001b[1;39;49m]\u001b[0m\u001b[39;49m A new release of pip is available: \u001b[0m\u001b[31;49m24.3.1\u001b[0m\u001b[39;49m -> \u001b[0m\u001b[32;49m25.0.1\u001b[0m\n",
      "\u001b[1m[\u001b[0m\u001b[34;49mnotice\u001b[0m\u001b[1;39;49m]\u001b[0m\u001b[39;49m To update, run: \u001b[0m\u001b[32;49mpython -m pip install --upgrade pip\u001b[0m\n",
      "Note: you may need to restart the kernel to use updated packages.\n"
     ]
    }
   ],
   "source": [
    "pip install pandas datasets"
   ]
  },
  {
   "cell_type": "code",
   "execution_count": 69,
   "metadata": {},
   "outputs": [
    {
     "data": {
      "text/plain": [
       "DatasetDict({\n",
       "    train: Dataset({\n",
       "        features: ['answer', 'contexts', 'ground_truth', 'question'],\n",
       "        num_rows: 5\n",
       "    })\n",
       "})"
      ]
     },
     "execution_count": 69,
     "metadata": {},
     "output_type": "execute_result"
    }
   ],
   "source": [
    "import pandas as pd;\n",
    "from datasets import load_dataset;\n",
    "ds = load_dataset(\"json\", data_files= \"../../eval.json\")\n",
    "ds = ds.with_format(\"pandas\")\n",
    "ds\n"
   ]
  },
  {
   "cell_type": "code",
   "execution_count": 70,
   "metadata": {},
   "outputs": [
    {
     "data": {
      "text/plain": [
       "\"The context provides a wealth of information about Kwaak, but does not cover all high-level components or provide a mermaid diagram. Here's what I can provide based on the available context:\\n\\n### Overview of Kwaak\\n\\nKwaak is a tool that allows you to run a team of autonomous AI agents from your terminal. These agents can help write, execute, and improve code. It differentiates itself by focusing on utilizing autonomous agents to manage tasks like updating documentation or code quality, allowing the user to focus on higher priority tasks.\\n\\n### Key Features\\n\\n- **Autonomous Agents**: Agents can run multiple tasks autonomously.\\n- **Code Awareness**: Kwaak is aware of your codebase and can answer questions, write code, execute commands, and create pull requests.\\n- **Open-Source**: The tool is open-source and part of the bosun.ai project.\\n- **Backend and Frontend**: It includes a lightweight frontend built on top of Ratatui and a backend communicated through dispatched commands.\\n- **Safe Execution Environment**: Docker is used to provide a safe environment for executing the code.\\n\\n### Architecture\\n\\n1. **Frontend and Backend**: The frontend is Ratatui based and interacts with the backend via dispatched commands.\\n2. **Indexing**: On initial startup, it will index the codebase using Swiftide for RAG (retrieval-augmented generation).\\n3. **Session Management**: Supports multiple sessions in parallel, with each session running an instance of an agent in a Docker container.\\n4. **Command Handling**: Utilizes a command pattern to handle backend actions asynchronously.\\n\\nA diagram of the components based on this information would be valuable, but the provided context does not include a specific architecture diagram or detailed breakdown into components.\\n\\n### Further Leads\\n\\n- Refer to the `ARCHITECTURE.md` file for a deeper understanding of session and command management.\\n- Review the `README.md` for high-level features and operational details.\\n\\nUnfortunately, without more detailed context or a specific diagram already present, I cannot provide a mermaid diagram specifically detailing high-level components. Further exploration of the `./ARCHITECTURE.md` and the overall repository might provide the necessary details to create such a diagram.\""
      ]
     },
     "execution_count": 70,
     "metadata": {},
     "output_type": "execute_result"
    }
   ],
   "source": [
    "ds[\"train\"][\"answer\"][0]"
   ]
  }
 ],
 "metadata": {
  "kernelspec": {
   "display_name": "Python 3 (ipykernel)",
   "language": "python",
   "name": "python3"
  },
  "language_info": {
   "codemirror_mode": {
    "name": "ipython",
    "version": 3
   },
   "file_extension": ".py",
   "mimetype": "text/x-python",
   "name": "python",
   "nbconvert_exporter": "python",
   "pygments_lexer": "ipython3",
   "version": "3.11.11"
  }
 },
 "nbformat": 4,
 "nbformat_minor": 2
}
